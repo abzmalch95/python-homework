{
 "cells": [
  {
   "cell_type": "code",
   "execution_count": null,
   "id": "5094aa17-603a-460d-9d50-138ae3880f0f",
   "metadata": {},
   "outputs": [],
   "source": [
    "csv_1 = '03-PyBank_Resources_budget_data.csv'\n",
    "from pathlib import Path\n",
    "import csv\n",
    "import os\n",
    "with open(csv_1,\"r\") as csv_file:\n",
    "    csv_reader = csv.reader(csv_file)\n",
    "    next(csv_reader)\n",
    "\n",
    "with open (MONU-VIRT-FIN-PT-02-2022-U-LOL/ Unit 2 Python / Homework / Instructions / PyBank / Resources / budget_data.csv)"
   ]
  },
  {
   "cell_type": "code",
   "execution_count": 38,
   "id": "5b067885-7c24-4ca3-97a0-3b7c63edc141",
   "metadata": {},
   "outputs": [],
   "source": [
    "#Thurs\n",
    "#09-Ins_CSV_Reader Solved\n",
    "# Set the file path\n",
    "csvpath = Path('Resources/budget_data.csv')"
   ]
  },
  {
   "cell_type": "code",
   "execution_count": null,
   "id": "e33eaf3e-c25b-4b50-83cf-338125121758",
   "metadata": {},
   "outputs": [],
   "source": [
    "budget_data = {}\n",
    "total_months = 0\n",
    "net_pnl = 0\n",
    "net_changes = []\n",
    "month_of_change = []\n",
    "greatest_increase = [\"\", 0]\n",
    "greatest_decrease = [\"\", 999999]\n"
   ]
  },
  {
   "cell_type": "code",
   "execution_count": null,
   "id": "27ccea78-bf87-46e9-af4e-cfdb205d67a3",
   "metadata": {},
   "outputs": [],
   "source": [
    "# Open the input path as a file object\n",
    "with open(csvpath, 'r') as csvfile:\n",
    "    # Pass in the csv file to the csv.reader() function\n",
    "    # (with ',' as the delmiter/separator) and return the csvreader object\n",
    "    #remember csv = comma separated values\n",
    "    csvreader = csv.reader(csvfile, delimiter=',')\n",
    "    header = next(csvreader)\n",
    "    \n",
    "    # Print the header\n",
    "    print(f\"{header} <---- HEADER\")\n",
    "    \n",
    "    first_row = next(csvreader)\n",
    "    total_months = total_months + 1\n",
    "    net_pnl = net_pnl + int(first_row[1])\n",
    "    previous_profit = int(first_row[1])\n",
    "    \n",
    "    for row in csvreader:\n",
    "        \n",
    "        total_months = total_months + 1\n",
    "        net_pnl = net_pnl + int(row[1])\n",
    "        \n",
    "        net_change = int(row[1]) - previous_profit\n",
    "        previous_profit = int(row[1])\n",
    "        net_changes.append(net_change)\n",
    "        month_of_change.append(row[0])\n",
    "        \n",
    "        if net_change > greatest_increase[1]:\n",
    "            greatest_increase[0] = row[0]\n",
    "            greatest_increase[1] = net_change\n",
    "        \n",
    "        if net_change < greatest_decrease[1]:\n",
    "            greatest_decrease[0] = row[0] \n",
    "            greatest_decrease[1] = net_change\n",
    "        \n"
   ]
  },
  {
   "cell_type": "code",
   "execution_count": null,
   "id": "ccc4c55c-c610-4baf-afb1-e020d6e5f85a",
   "metadata": {},
   "outputs": [],
   "source": []
  },
  {
   "cell_type": "code",
   "execution_count": null,
   "id": "767e3cf4-f002-439d-98b9-84e33c769728",
   "metadata": {},
   "outputs": [],
   "source": [
    "monthly_average = round(sum(net_changes) / len(net_changes), 2)\n",
    "print(monthly_average)"
   ]
  },
  {
   "cell_type": "code",
   "execution_count": null,
   "id": "4c247383-f4ec-48e5-b38b-45483acc9fff",
   "metadata": {},
   "outputs": [],
   "source": [
    "    # Read each row of data after the header\n",
    "    for row in csvreader:\n",
    "        # Print the row\n",
    "        month = row[0]\n",
    "        pnl = row[1]\n",
    "        \n",
    "        budget_data[month] = int(pnl)\n",
    "total_months = 0\n",
    "total_pnl = 0\n",
    "\n",
    "for month,pnl in budget_data.items():\n",
    "    #reset total_months = previous total_months + 1\n",
    "    total_months = total_months + 1\n",
    "    total_pnl = total_pnl + pnl\n",
    "    \n",
    "print(total_months)\n",
    "print(total_pnl)"
   ]
  },
  {
   "cell_type": "code",
   "execution_count": null,
   "id": "9d13b2d2-24d4-4010-9460-e581df587c5d",
   "metadata": {},
   "outputs": [],
   "source": [
    "\n",
    "\n",
    "# example data structure \n",
    "# Read in budget data \n",
    "# {'Jan-2010': \t867884, \n",
    "#   'Feb-2010': \t984655 }\n",
    "\n",
    "# Initialize variable to hold salaries\n",
    "# months = []\n",
    "# profits_losses = []\n",
    "\n",
    "budget_data = {}\n",
    "\n",
    "# Open the input path as a file object\n",
    "with open(csvpath, 'w') as csvfile:\n",
    "\n",
    "    # Pass in the csv file to the csv.reader() function\n",
    "    # (with ',' as the delmiter/separator) and return the csvreader object\n",
    "    #remember csv = comma separated values\n",
    "    csvreader = csv.reader(csvfile, delimiter=',')\n",
    "    # Print the datatype of the csvreader\n",
    "    \n",
    "    # Go to the next row from the start of the file\n",
    "    # (which is often the first row/header) and iterate line_num by 1\n",
    "    header = next(csvreader)\n",
    "    # Print the header\n",
    "    print(f\"{header} <---- HEADER\")\n",
    "\n",
    "    # Read each row of data after the header\n",
    "    for row in csvreader:\n",
    "        # Add data to a dictionary\n",
    "        date = 0\n",
    "        pnl = 1\n",
    "        budget_data[row[date]] = int(row[pnl])\n",
    "\n",
    "print(budget_data)"
   ]
  },
  {
   "cell_type": "code",
   "execution_count": 30,
   "id": "cf2fc6f6-5c1c-4bde-a57d-c4ae274853e5",
   "metadata": {},
   "outputs": [
    {
     "ename": "SyntaxError",
     "evalue": "unexpected EOF while parsing (Temp/ipykernel_8932/4117494631.py, line 1)",
     "output_type": "error",
     "traceback": [
      "\u001b[1;36m  File \u001b[1;32m\"C:\\Users\\Abdul\\AppData\\Local\\Temp/ipykernel_8932/4117494631.py\"\u001b[1;36m, line \u001b[1;32m1\u001b[0m\n\u001b[1;33m    print(budget_data(\"Oct-2011\")\u001b[0m\n\u001b[1;37m                                 ^\u001b[0m\n\u001b[1;31mSyntaxError\u001b[0m\u001b[1;31m:\u001b[0m unexpected EOF while parsing\n"
     ]
    }
   ],
   "source": [
    "print(budget_data(\"Oct-2011\")"
   ]
  },
  {
   "cell_type": "code",
   "execution_count": null,
   "id": "446bd88e-9af9-4548-98d3-8f952afd2795",
   "metadata": {},
   "outputs": [],
   "source": [
    "print(len(budget_data))"
   ]
  },
  {
   "cell_type": "code",
   "execution_count": 28,
   "id": "11b539e2-125f-4e45-865b-69f8b44b9f9a",
   "metadata": {},
   "outputs": [
    {
     "name": "stdout",
     "output_type": "stream",
     "text": [
      "0 0\n"
     ]
    }
   ],
   "source": [
    "total_months = 0 \n",
    "total_pnl = 0\n",
    "for month, pnl in budget_data.items():\n",
    "    total_months = total_months + 1\n",
    "    total_pnl = total_pnl + pnl\n",
    "\n",
    "print(total_months,total_pnl)"
   ]
  },
  {
   "cell_type": "code",
   "execution_count": null,
   "id": "d25b55ca-089c-4b0a-9ea7-045237895189",
   "metadata": {},
   "outputs": [],
   "source": []
  },
  {
   "cell_type": "code",
   "execution_count": null,
   "id": "a72edda0-2e5b-4de4-a93f-1712645c9bf6",
   "metadata": {},
   "outputs": [],
   "source": []
  },
  {
   "cell_type": "code",
   "execution_count": null,
   "id": "1ec5b20d-b166-43c3-b08d-61fd749f92a7",
   "metadata": {},
   "outputs": [],
   "source": []
  },
  {
   "cell_type": "code",
   "execution_count": null,
   "id": "f5e690b4-20d6-4ee1-8743-8b167a75343d",
   "metadata": {},
   "outputs": [],
   "source": []
  },
  {
   "cell_type": "code",
   "execution_count": null,
   "id": "cf509835-c0c9-45ab-a56a-3246104d9da5",
   "metadata": {},
   "outputs": [],
   "source": []
  },
  {
   "cell_type": "code",
   "execution_count": null,
   "id": "14171ac5-7c43-4981-9314-b28bdacb51db",
   "metadata": {},
   "outputs": [],
   "source": []
  },
  {
   "cell_type": "code",
   "execution_count": null,
   "id": "003fe22c-53e2-42e8-9b35-d8f094f8dc89",
   "metadata": {},
   "outputs": [],
   "source": []
  }
 ],
 "metadata": {
  "kernelspec": {
   "display_name": "Python 3 (ipykernel)",
   "language": "python",
   "name": "python3"
  },
  "language_info": {
   "codemirror_mode": {
    "name": "ipython",
    "version": 3
   },
   "file_extension": ".py",
   "mimetype": "text/x-python",
   "name": "python",
   "nbconvert_exporter": "python",
   "pygments_lexer": "ipython3",
   "version": "3.7.11"
  }
 },
 "nbformat": 4,
 "nbformat_minor": 5
}
